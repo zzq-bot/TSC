{
 "cells": [
  {
   "cell_type": "code",
   "execution_count": 1,
   "metadata": {},
   "outputs": [],
   "source": [
    "import os\n",
    "import numpy as np\n",
    "import torch as th\n",
    "from types import SimpleNamespace as SN"
   ]
  },
  {
   "cell_type": "code",
   "execution_count": 2,
   "metadata": {},
   "outputs": [],
   "source": [
    "class CRPRecorder:\n",
    "    def __init__(self, args) -> None:\n",
    "        self.args = args\n",
    "        self.xi = args.xi\n",
    "        self.recorder = {}\n",
    "        self.eta = args.eta\n",
    "        self.rbf_radius = args.rbf_radius # default 80\n",
    "        self.kernel = args.kernel\n",
    "        self.l = 0 # count\n",
    "        self.M = 0 # num of clusters so far\n",
    "        self.count_M = [] # each elem should be cur num of cluster m\n",
    "        self.prototype = []\n",
    "        self.record_checkpoint_path = []\n",
    "        self.record_npc_idx = [] # point out npc idx for each elem in each cluster\n",
    "\n",
    "    def set_module(self, encoder, decoder):\n",
    "        self.encoder = encoder\n",
    "        self.decoder = decoder\n",
    "\n",
    "    def cal_prior(self) -> np.ndarray:\n",
    "        ret = np.array(self.count_M+[self.xi])\n",
    "        return ret / np.sum(ret)\n",
    "    \n",
    "    def cal_posterior(self, v, X, Y, masks) -> np.ndarray:\n",
    "        v = th.FloatTensor(v).to(self.args.device)\n",
    "        with th.no_grad():\n",
    "            log_prob = self.decoder.cal_log_prob(v, X, Y, masks).detach().cpu().numpy()\n",
    "        return np.exp(log_prob.item())\n",
    "\n",
    "    def build_cluster_input(self, cluster_buffer):\n",
    "        assert cluster_buffer.buffer_size == self.args.num_traj_cluster\n",
    "        batch = cluster_buffer.sample(cluster_buffer.buffer_size)\n",
    "        if batch.device != self.args.device:\n",
    "            batch.to(self.args.device)\n",
    "        states = batch[\"state\"]\n",
    "        rewards = batch[\"reward\"][:, :-1]\n",
    "        actions_onehot = batch[\"actions_onehot\"][:, :-1]\n",
    "        terminated = batch[\"terminated\"][:, :-1].float()\n",
    "        masks = batch[\"filled\"][:, :-1].float()\n",
    "        masks[:, 1:] = masks[:, 1:] * (1 - terminated[:, :-1])\n",
    "        \n",
    "        X = th.cat([states[:, :-1], actions_onehot.reshape(batch.batch_size, batch.max_seq_length-1, -1)], dim=-1)\n",
    "        Y = th.cat([rewards, states[:, 1:]], dim=-1)\n",
    "        return X, Y, masks\n",
    "\n",
    "\n",
    "    def cluster(self, npc_idx, X, Y, masks, unqiue_token) -> int:\n",
    "        v_l = self.encoder.forward(X, masks).detach().cpu().numpy() # TODO might take mean on axis 0\n",
    "        # calculate prior\n",
    "        prior = self.cal_prior()\n",
    "        posterior = []\n",
    "        for v in self.prototype:\n",
    "            posterior.append(self.cal_posterior(v, X, Y, masks))\n",
    "        posterior.append(self.cal_posterior(v_l, X, Y, masks))\n",
    "        prob = prior * posterior\n",
    "\n",
    "        m = np.argmax(prob)\n",
    "        if m == self.M: # a new cluster\n",
    "            self.prototype.append(v_l)\n",
    "            self.count_M.append(1)\n",
    "            self.M += 1\n",
    "            self.record_npc_idx.append([npc_idx])\n",
    "        else:           # add to old clusters\n",
    "            self.prototype[m] = (self.count_M * self.count_M[m] + v_l) / (self.count_M[m] + 1)\n",
    "            self.count_M[m] += 1\n",
    "            self.record_npc_idx[m].append([npc_idx])\n",
    "\n",
    "        save_path = self.build_new_checkpoint(m, unqiue_token) \n",
    "        self.l += 1\n",
    "        return m, save_path\n",
    "\n",
    "    def build_new_checkpoint(self, m, unqiue_token):\n",
    "        save_path = f\"./crp_recorder/{unqiue_token}/cluster_{m}/elem_{self.count_M[m]}\"\n",
    "        os.makedirs(save_path, exist_ok=True)\n",
    "        if len(self.record_checkpoint_path) <= m:\n",
    "            self.record_checkpoint_path.append([save_path])\n",
    "        else:\n",
    "            self.record_checkpoint_path[m].append(save_path)\n",
    "        return save_path\n",
    "    \n",
    "    def save(self, save_path):\n",
    "        os.makedirs(save_path, exist_ok=True)\n",
    "        np.save(os.path.join(save_path, \"recorder.npy\"), self.recorder)\n",
    "        np.save(os.path.join(save_path, \"count_M.npy\"), self.count_M)\n",
    "        np.save(os.path.join(save_path, \"prototype.npy\"), self.prototype)\n",
    "        np.save(os.path.join(save_path, \"record_checkpoint_path.npy\"), self.record_checkpoint_path)\n",
    "        np.save(os.path.join(save_path, \"record_npc_idx.npy\"), self.record_npc_idx)\n",
    "    \n",
    "    def load(self, load_path):\n",
    "        assert os.path.exists(load_path)\n",
    "        self.recorder = np.load(os.path.join(load_path, \"recorder.npy\"), allow_pickle=True).item()\n",
    "        self.count_M = np.load(os.path.join(load_path, \"count_M.npy\"), allow_pickle=True).tolist()\n",
    "        self.prototype = np.load(os.path.join(load_path, \"prototype.npy\"), allow_pickle=True).tolist()\n",
    "        self.record_checkpoint_path = np.load(os.path.join(load_path, \"record_checkpoint_path.npy\"), allow_pickle=True).tolist()\n",
    "        self.record_npc_idx = np.load(os.path.join(load_path, \"record_npc_idx.npy\"), allow_pickle=True).tolist()\n",
    "        self.M = len(self.count_M)\n",
    "        self.l = np.sum(self.count_M)"
   ]
  },
  {
   "cell_type": "code",
   "execution_count": 3,
   "metadata": {},
   "outputs": [],
   "source": [
    "args = {\"xi\":1, \"eta\":0.1, \"rbf_radius\":40, \"kernel\": 1}\n",
    "args = SN(**args)"
   ]
  },
  {
   "cell_type": "code",
   "execution_count": 4,
   "metadata": {},
   "outputs": [],
   "source": [
    "recorder = CRPRecorder(args)"
   ]
  },
  {
   "cell_type": "code",
   "execution_count": null,
   "metadata": {},
   "outputs": [],
   "source": [
    "recorder_path = \"recorder_checkpoint/test_env_generate_seed2_mpe_SimpleTag-1good-3adv-v0_2022-11-29_19_27_31.386069_test_crp_0/0\""
   ]
  }
 ],
 "metadata": {
  "kernelspec": {
   "display_name": "Python 3.7.9 ('macc')",
   "language": "python",
   "name": "python3"
  },
  "language_info": {
   "codemirror_mode": {
    "name": "ipython",
    "version": 3
   },
   "file_extension": ".py",
   "mimetype": "text/x-python",
   "name": "python",
   "nbconvert_exporter": "python",
   "pygments_lexer": "ipython3",
   "version": "3.7.9"
  },
  "orig_nbformat": 4,
  "vscode": {
   "interpreter": {
    "hash": "58157046fc43d8ac9d9b4f97ee369361976cc37b47c6ccbe614b7cf42d6e1ec8"
   }
  }
 },
 "nbformat": 4,
 "nbformat_minor": 2
}
