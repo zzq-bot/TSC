{
 "cells": [
  {
   "cell_type": "code",
   "execution_count": 2,
   "metadata": {},
   "outputs": [],
   "source": [
    "import torch as th\n",
    "from torch import nn\n",
    "import torch.nn.functional as F\n",
    "from icecream import ic \n",
    "from types import SimpleNamespace as SN\n",
    "import os"
   ]
  },
  {
   "cell_type": "code",
   "execution_count": 3,
   "metadata": {},
   "outputs": [],
   "source": [
    "class MLPAgent(nn.Module):\n",
    "    def __init__(self, input_shape, args) -> None:\n",
    "        super().__init__()\n",
    "        self.args = args\n",
    "        self.fc1 = nn.Linear(input_shape, args.hidden_dim)\n",
    "        self.fc2 = nn.Linear(args.hidden_dim, args.hidden_dim)\n",
    "        self.fc3 = nn.Linear(args.hidden_dim, args.n_actions)\n",
    "        \n",
    "\n",
    "    def forward(self, inputs, proxy_z=None):\n",
    "        if proxy_z is not None:\n",
    "            assert inputs.shape[:-1] == proxy_z.shape[:-1], ic(inputs.shape, proxy_z.shape)\n",
    "            inputs = th.cat((inputs, proxy_z), dim=-1)\n",
    "        else:\n",
    "            # assert self.args.use_encoder is False\n",
    "            pass\n",
    "        x = F.relu(self.fc1(inputs))\n",
    "        h = F.relu(self.fc2(x))\n",
    "        q = self.fc3(h)\n",
    "        return q"
   ]
  },
  {
   "cell_type": "code",
   "execution_count": 4,
   "metadata": {},
   "outputs": [],
   "source": [
    "class MLPNSAgent(nn.Module):\n",
    "    def __init__(self, input_shape, args, train_teammate=True) -> None:\n",
    "        super().__init__()\n",
    "        self.args = args\n",
    "        self.n_agents = args.n_agents\n",
    "        self.n_control = args.n_control\n",
    "        if train_teammate:\n",
    "            self.n_control = self.n_agents\n",
    "        self.input_shape = input_shape\n",
    "        self.agents = th.nn.ModuleList([MLPAgent(input_shape, args) for _ in range(self.n_control)])\n",
    "        #ic(\"length of MLPNS Agent:\", len(self.agents))\n",
    "\n",
    "    def forward(self, inputs, proxy_z=None):\n",
    "        qs = []\n",
    "        if proxy_z is not None:\n",
    "            assert inputs.shape[:-1] == proxy_z.shape[:-1], print(inputs.shape, proxy_z.shape)\n",
    "            if inputs.size(0) == self.n_control:\n",
    "                for i in range(self.n_control):\n",
    "                    #ic(self.input_shape)\n",
    "                    #ic(inputs[i].unsqueeze(0).shape, proxy_z[i].unsqueeze(0).shape)\n",
    "                    q = self.agents[i](inputs[i].unsqueeze(0), proxy_z[i].unsqueeze(0))\n",
    "                    #assert 0\n",
    "                    qs.append(q)\n",
    "                return th.cat(qs)\n",
    "            else:\n",
    "                for i in range(self.n_control):\n",
    "                    inputs = inputs.view(-1, self.n_control, self.args.obs_shape)\n",
    "                    proxy_z = proxy_z.view(-1, self.n_control, self.args.proxy_z_dim)\n",
    "                    q = self.agents[i](inputs[:, i], proxy_z[:, i])\n",
    "                    qs.append(q.unsqueeze(1))\n",
    "                return th.cat(qs, dim=-1).view(-1, q.size(-1))\n",
    "        else:\n",
    "            #assert self.args.use_encoder is False\n",
    "            if inputs.size(0) == self.n_control:\n",
    "                for i in range(self.n_control):\n",
    "                    #ic(self.input_shape)\n",
    "                    #ic(inputs[i].unsqueeze(0).shape, proxy_z[i].unsqueeze(0).shape)\n",
    "                    q = self.agents[i](inputs[i].unsqueeze(0), None)\n",
    "                    #assert 0\n",
    "                    qs.append(q)\n",
    "                return th.cat(qs)\n",
    "            else:\n",
    "                for i in range(self.n_control):\n",
    "                    inputs = inputs.view(-1, self.n_control, self.args.obs_shape)\n",
    "                    q = self.agents[i](inputs[:, i], None)\n",
    "                    qs.append(q.unsqueeze(1))\n",
    "                return th.cat(qs, dim=-1).view(-1, q.size(-1))\n",
    "\n",
    "    def cuda(self, device=None):\n",
    "        if not device:\n",
    "            device = self.args.device\n",
    "        for a in self.agents:\n",
    "            a.cuda(device=device)\n",
    "    \n",
    "    def freeze(self):\n",
    "        for param in self.parameters():\n",
    "            param.requires_grad = True"
   ]
  },
  {
   "cell_type": "code",
   "execution_count": 4,
   "metadata": {},
   "outputs": [],
   "source": [
    "lbf_args = {\"hidden_dim\": 64,\n",
    "            \"n_actions\": 6,\n",
    "            \"n_agents\": 4,\n",
    "            \"n_control\": 4}\n",
    "lbf_args = SN(**lbf_args)\n",
    "\n",
    "load_team = MLPNSAgent(input_shape=27, args=lbf_args)\n",
    "load_path = \"pretrain_checkpoint/lbf_6x6_4p5f/pretrain_teammate_path/01/agent.th\"\n",
    "load_team.load_state_dict(th.load(load_path, map_location=lambda storage, loc: storage))\n",
    "\n",
    "lbf_args.n_control = 2\n",
    "save_control_team = MLPNSAgent(input_shape=27, args=lbf_args, train_teammate=False)\n",
    "for i in range(2):\n",
    "    for load_param, save_param in zip(load_team.parameters(), save_control_team.parameters()):\n",
    "        save_param.data.copy_(load_param.data)"
   ]
  },
  {
   "cell_type": "code",
   "execution_count": 5,
   "metadata": {},
   "outputs": [],
   "source": [
    "save_path = \"debug/performance_drop/lbf\"\n",
    "th.save(save_control_team.state_dict(), \"{}/controllable_agent.th\".format(save_path))\n",
    "th.save(load_team.state_dict(), \"{}/team.th\".format(save_path))"
   ]
  },
  {
   "cell_type": "code",
   "execution_count": 6,
   "metadata": {},
   "outputs": [
    {
     "data": {
      "text/plain": [
       "<All keys matched successfully>"
      ]
     },
     "execution_count": 6,
     "metadata": {},
     "output_type": "execute_result"
    }
   ],
   "source": [
    "st_args = {\"hidden_dim\": 64,\n",
    "            \"n_actions\": 5,\n",
    "            \"n_agents\": 3,\n",
    "            \"n_control\": 3}\n",
    "st_args = SN(**st_args)\n",
    "\n",
    "load_team = MLPNSAgent(input_shape=16, args=st_args)\n",
    "load_path = \"pretrain_checkpoint/SimpleTag-1good-3adv/pretrain_teammate_path/01/agent.th\"\n",
    "load_team.load_state_dict(th.load(load_path, map_location=lambda storage, loc: storage))"
   ]
  },
  {
   "cell_type": "code",
   "execution_count": 7,
   "metadata": {},
   "outputs": [],
   "source": [
    "st_args.n_control = 2\n",
    "save_control_team = MLPNSAgent(input_shape=16, args=st_args, train_teammate=False)\n",
    "for i in range(2):\n",
    "    for load_param, save_param in zip(load_team.parameters(), save_control_team.parameters()):\n",
    "        save_param.data.copy_(load_param.data)"
   ]
  },
  {
   "cell_type": "code",
   "execution_count": 9,
   "metadata": {},
   "outputs": [],
   "source": [
    "save_path = \"debug/performance_drop/mpe_stag\"\n",
    "os.makedirs(save_path, exist_ok=True)\n",
    "th.save(save_control_team.state_dict(), \"{}/controllable_agent.th\".format(save_path))\n",
    "th.save(load_team.state_dict(), \"{}/team.th\".format(save_path))"
   ]
  },
  {
   "cell_type": "code",
   "execution_count": 10,
   "metadata": {},
   "outputs": [],
   "source": [
    "class Player:\n",
    "    def __init__(self):\n",
    "        self.controller = None\n",
    "        self.position = None\n",
    "        self.level = None\n",
    "        self.field_size = None\n",
    "        self.score = None\n",
    "        self.reward = 0\n",
    "        self.history = None\n",
    "        self.current_step = None\n",
    "\n",
    "        self.active = False\n",
    "\n",
    "    def setup(self, position, level, field_size):\n",
    "        self.history = []\n",
    "        self.position = position\n",
    "        self.level = level\n",
    "        self.field_size = field_size\n",
    "        self.score = 0\n",
    "\n",
    "    def set_controller(self, controller):\n",
    "        self.controller = controller\n",
    "\n",
    "    def step(self, obs):\n",
    "        return self.controller._step(obs)"
   ]
  },
  {
   "cell_type": "code",
   "execution_count": 11,
   "metadata": {},
   "outputs": [],
   "source": [
    "x = [Player(), Player(), Player()]\n",
    "x[0].active = True"
   ]
  },
  {
   "cell_type": "code",
   "execution_count": 12,
   "metadata": {},
   "outputs": [
    {
     "name": "stdout",
     "output_type": "stream",
     "text": [
      "True\n",
      "False\n",
      "False\n"
     ]
    }
   ],
   "source": [
    "for id in range(3):\n",
    "    print(x[id].active)"
   ]
  },
  {
   "cell_type": "code",
   "execution_count": 13,
   "metadata": {},
   "outputs": [
    {
     "name": "stdout",
     "output_type": "stream",
     "text": [
      "True\n",
      "False\n",
      "False\n"
     ]
    }
   ],
   "source": [
    "for player in x:\n",
    "    print(player.active)"
   ]
  },
  {
   "cell_type": "code",
   "execution_count": 14,
   "metadata": {},
   "outputs": [],
   "source": [
    "for player in x:\n",
    "    player.active = True"
   ]
  },
  {
   "cell_type": "code",
   "execution_count": 15,
   "metadata": {},
   "outputs": [
    {
     "name": "stdout",
     "output_type": "stream",
     "text": [
      "True\n",
      "True\n",
      "True\n"
     ]
    }
   ],
   "source": [
    "for id in range(3):\n",
    "    print(x[id].active)"
   ]
  },
  {
   "cell_type": "code",
   "execution_count": 24,
   "metadata": {},
   "outputs": [],
   "source": [
    "import numpy as np\n",
    "class Test_class:\n",
    "    def __init__(self) -> None:\n",
    "        self.cnt = np.random.choice(range(10), 1).item()\n",
    "    \n",
    "    def step(self):\n",
    "        self.cnt -= 1"
   ]
  },
  {
   "cell_type": "code",
   "execution_count": 25,
   "metadata": {},
   "outputs": [
    {
     "data": {
      "text/plain": [
       "(1, 9)"
      ]
     },
     "execution_count": 25,
     "metadata": {},
     "output_type": "execute_result"
    }
   ],
   "source": [
    "a = Test_class()\n",
    "b = Test_class()\n",
    "a.cnt, b.cnt"
   ]
  },
  {
   "cell_type": "code",
   "execution_count": 29,
   "metadata": {},
   "outputs": [
    {
     "data": {
      "text/plain": [
       "-3"
      ]
     },
     "execution_count": 29,
     "metadata": {},
     "output_type": "execute_result"
    }
   ],
   "source": [
    "x = a\n",
    "x.step()\n",
    "a.cnt"
   ]
  },
  {
   "cell_type": "code",
   "execution_count": null,
   "metadata": {},
   "outputs": [],
   "source": []
  }
 ],
 "metadata": {
  "kernelspec": {
   "display_name": "Python 3.7.9 ('macc')",
   "language": "python",
   "name": "python3"
  },
  "language_info": {
   "codemirror_mode": {
    "name": "ipython",
    "version": 3
   },
   "file_extension": ".py",
   "mimetype": "text/x-python",
   "name": "python",
   "nbconvert_exporter": "python",
   "pygments_lexer": "ipython3",
   "version": "3.7.9"
  },
  "orig_nbformat": 4,
  "vscode": {
   "interpreter": {
    "hash": "58157046fc43d8ac9d9b4f97ee369361976cc37b47c6ccbe614b7cf42d6e1ec8"
   }
  }
 },
 "nbformat": 4,
 "nbformat_minor": 2
}
